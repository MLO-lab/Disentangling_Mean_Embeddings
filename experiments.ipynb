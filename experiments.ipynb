{
 "cells": [
  {
   "cell_type": "code",
   "execution_count": null,
   "id": "ece4c68f-fcf9-4a55-899f-0aeb815c3dc1",
   "metadata": {},
   "outputs": [],
   "source": [
    "import numpy as np\n",
    "from sklearn.metrics import pairwise\n",
    "import matplotlib.pyplot as plt\n",
    "import seaborn as sns\n",
    "import scipy.cluster.hierarchy as spc\n",
    "import os\n",
    "import pickle\n",
    "from lib.get_model import get_model, GetGANModelParameters, GetDiffusionModelParameters\n",
    "from lib.data import create_dataset\n",
    "from lib.random import set_random_seed\n",
    "import torch\n",
    "from lib.path import create_evaluate_path\n",
    "import lib.metrics as metrics\n",
    "from lib.metrics import multiprocessed_pixel_wise_correlation_phi\n",
    "from mpl_toolkits.axes_grid1 import host_subplot\n",
    "import mpl_toolkits.axisartist as AA\n",
    "import matplotlib.pyplot as plt\n",
    "import torchvision.utils as vutils"
   ]
  },
  {
   "cell_type": "code",
   "execution_count": null,
   "id": "e78ad7f0-1cd0-461c-9047-27f05db7e1e5",
   "metadata": {},
   "outputs": [],
   "source": [
    "def CKA(X, Y, kernel=lambda x,y: pairwise.rbf_kernel(x,y)):\n",
    "    '''Estimates centered kernel alignment between k(X,X') and k(Y,Y')'''\n",
    "    assert X.shape == Y.shape\n",
    "    n_size = X.shape[0]\n",
    "    K_X = kernel(X, X)\n",
    "    K_Y = kernel(Y, Y)\n",
    "    centering = np.eye(n_size) - np.ones((n_size, n_size))/n_size\n",
    "    K_Xc = centering @ K_X @ centering\n",
    "    K_Yc = centering @ K_Y @ centering\n",
    "    K_Xc_norm = np.linalg.norm(K_Xc, ord='fro')\n",
    "    K_Yc_norm = np.linalg.norm(K_Yc, ord='fro')\n",
    "    return np.trace(K_Xc.T @ K_Yc) / (K_Xc_norm * K_Yc_norm)"
   ]
  },
  {
   "cell_type": "code",
   "execution_count": null,
   "id": "f8c77690-448a-43bd-aef5-197aac77d437",
   "metadata": {},
   "outputs": [],
   "source": [
    "import multiprocess as mp\n",
    "from functools import partial\n",
    "from lib.notebook import get_tqdm\n",
    "\n",
    "tqdm = get_tqdm()\n",
    "\n",
    "def pixel_wise_CKA(index, image_size, samples, kernel=lambda x, y: pairwise.rbf_kernel(x, y, gamma=None)):\n",
    "    \"\"\"\n",
    "    Computes the CKA between a specific pixel and all other pixels in an image.\n",
    "\n",
    "    Args:\n",
    "        index (int): The linear index of the pixel for which the correlation is to be computed.\n",
    "        image_size (int): The size of the image (assumed to be a square image with dimensions image_size x image_size).\n",
    "        samples (numpy.ndarray): A 4D numpy array of samples with shape (batch_size, height, width, channels).\n",
    "        kernel (function): A function that computes the kernel between two sets of samples.\n",
    "                           The default kernel is the Radial Basis Function (RBF) kernel with an unspecified gamma parameter.\n",
    "\n",
    "    Returns:\n",
    "        list: A 2D list where each element represents the phi correlation between the specified pixel and another pixel in the image.\n",
    "    \"\"\"\n",
    "    i, j = index // image_size, index % image_size\n",
    "    return [\n",
    "        [\n",
    "        CKA(samples[:, :, i, j], samples[:, :, px2, py2], kernel=kernel) if index<px2*image_size+py2 else 1.\n",
    "            for py2 in range(image_size)\n",
    "        ]\n",
    "        for px2 in range(image_size)\n",
    "    ]\n",
    "\n",
    "def multiprocessed_pixel_wise_CKA(image_size, samples, cpus=8, kernel=lambda x, y: pairwise.rbf_kernel(x, y, gamma=None)):\n",
    "    \"\"\"\n",
    "    Computes the pixel-wise CKA between all pixels in an image using multiprocessing.\n",
    "\n",
    "    Args:\n",
    "        image_size (int): The size of the image (assumed to be a square image with dimensions image_size x image_size).\n",
    "        samples (iterable): An iterable of 4D numpy arrays, where each array has shape (batch_size, height, width, channels).\n",
    "        cpus (int): The number of CPU cores to use for multiprocessing. Default is 8.\n",
    "        kernel (function): A function that computes the kernel between two sets of samples.\n",
    "                           The default kernel is the Radial Basis Function (RBF) kernel with an unspecified gamma parameter.\n",
    "\n",
    "    Returns:\n",
    "        numpy.ndarray: A 4D array of pixel-wise phi correlations with shape (image_size, image_size, image_size, image_size).\n",
    "    \"\"\"\n",
    "    iterations = range(image_size**2)\n",
    "    with mp.Pool(cpus) as pool:\n",
    "        partial_worker_function = partial(pixel_wise_CKA, image_size=image_size, samples=samples, kernel=kernel)\n",
    "        corr = np.array(list(tqdm(pool.imap(partial_worker_function, iterations), total=image_size**2)))\n",
    "        return corr.reshape(image_size, image_size, image_size, image_size)"
   ]
  },
  {
   "cell_type": "code",
   "execution_count": null,
   "id": "55f156ba-1057-4c5c-8a37-5ce8a8fc67c3",
   "metadata": {},
   "outputs": [],
   "source": [
    "##########################\n",
    "### DCGAN CelebA #########\n",
    "##########################"
   ]
  },
  {
   "cell_type": "code",
   "execution_count": null,
   "id": "62c99858-4b70-47ae-b978-b548df122d51",
   "metadata": {},
   "outputs": [],
   "source": [
    "\n",
    "model_name = \"DCGAN64x64\"\n",
    "max_images_per_epoch = 0\n",
    "n = 20\n",
    "m = n\n",
    "batch_size_gmmd = 150  # 100\n",
    "batch_size_corr = 100\n",
    "nc = 3\n",
    "max_epochs = 50\n",
    "epochs = list(range(0, max_epochs + 1))  # [1, 25, 50]\n",
    "seed = set_random_seed(6746)\n",
    "dataset_name = \"celeba\"\n",
    "image_size = 64\n",
    "n_subset = 1000\n",
    "cpus = 75\n",
    "cmap = cmap=plt.cm.Reds\n",
    "plt.rcParams.update({'font.size': 14})\n",
    "\n",
    "training_dataset = create_dataset(dataset_name, image_size, subset=n_subset, load_dataset_in_memory=True)\n",
    "training_data = training_dataset.data.numpy()\n",
    "print(training_data.shape)\n",
    "\n",
    "# heuristic for setting kernel bandwidth (=gamma)\n",
    "gamma = 1/np.median(pairwise.euclidean_distances(training_data.reshape(training_data.shape[0], -1), squared=True))\n",
    "\n",
    "def rbf_kernel_(x,y):\n",
    "    return pairwise.rbf_kernel(x, y, gamma=gamma)\n",
    "\n",
    "kernel = rbf_kernel_\n",
    "kernel_name = \"rbf_kernel\""
   ]
  },
  {
   "cell_type": "code",
   "execution_count": null,
   "id": "40f348f3-b298-434b-bc6d-018ca2b75efc",
   "metadata": {},
   "outputs": [],
   "source": [
    "os.mkdir(f\"data/{dataset_name}/corrs/\")\n",
    "agg = []\n",
    "for i in range(n_subset // batch_size_corr):\n",
    "    batch = training_data[i*batch_size_corr:(i+1)*batch_size_corr]\n",
    "    data_corr_tri = multiprocessed_pixel_wise_CKA(image_size, batch, cpus=cpus, kernel=kernel)\n",
    "    data_corr_tri = data_corr_tri.reshape(image_size**2, image_size**2)\n",
    "    ### make triangular matrix symmetric\n",
    "    data_corr = data_corr_tri.copy()\n",
    "    data_corr[np.tril_indices_from(data_corr_tri, k=-1)] = data_corr_tri.T[np.tril_indices_from(data_corr_tri, k=-1)]\n",
    "    data_corr = data_corr.reshape(image_size, image_size, image_size, image_size)\n",
    "\n",
    "    with open(f\"data/{dataset_name}/corrs/CKA {kernel_name} {seed} n_subset-{n_subset} batch-{i}.pkl\", \"wb\") as file:\n",
    "        pickle.dump(data_corr, file)"
   ]
  },
  {
   "cell_type": "code",
   "execution_count": null,
   "id": "77159c71-4eed-4f0e-8398-c1d716d6cb8e",
   "metadata": {},
   "outputs": [],
   "source": [
    "n_batches = n_subset // batch_size_corr\n",
    "data_corr = []\n",
    "for i in tqdm(range(n_batches), total=n_batches):\n",
    "    with open(f\"data/{dataset_name}/corrs/CKA {kernel_name} {seed} n_subset-{n_subset} batch-{i}.pkl\", \"rb\") as file:\n",
    "        data_corr.append(pickle.load(file))\n",
    "data_corr = np.array(data_corr).mean(axis=0)"
   ]
  },
  {
   "cell_type": "code",
   "execution_count": null,
   "id": "a5cc7473-2324-47aa-a35e-57e932122324",
   "metadata": {},
   "outputs": [],
   "source": [
    "os.makedirs(f\"plots/{dataset_name} {image_size}x{image_size}/corr_pixel_wise_cluster/\", exist_ok = True)\n",
    "os.makedirs(f\"plots/{dataset_name} {image_size}x{image_size}/corr_pixel_wise_cluster/\", exist_ok = True)\n",
    "\n",
    "num_clusters = 5\n",
    "colors = {\n",
    "    1: '#003f5c',\n",
    "    2: '#fb8500',\n",
    "    3: '#e40b0b',\n",
    "    4: '#219ebc',\n",
    "    5: '#8ab17d',\n",
    "}\n",
    "\n",
    "big_corr_matrix = data_corr.reshape(image_size*image_size, image_size*image_size)\n",
    "plt.rcParams.update({'font.size': 22})\n",
    "pdist = spc.distance.pdist(big_corr_matrix)\n",
    "linkage = spc.linkage(pdist, method='average')\n",
    "if num_clusters is None:\n",
    "    idx = spc.fcluster(linkage, 0.5 * pdist.max(), criterion='distance')\n",
    "else:\n",
    "    idx = spc.fcluster(linkage, criterion='maxclust', t=num_clusters)\n",
    "cluster = np.array(idx).reshape(image_size, image_size)\n",
    "plt.imshow(cluster, cmap=plt.cm.colors.ListedColormap(colors.values()))\n",
    "handles = [plt.Line2D([0, 1], [0, 1], color=colors[label], linewidth=5) for label in range(1, num_clusters + 1)]\n",
    "labels = [f\"Cluster {label}\" for label in range(1, num_clusters + 1)]\n",
    "plt.legend(handles, labels, loc='upper left', bbox_to_anchor=(1, 1))\n",
    "plt.savefig(f\"plots/{dataset_name} {image_size}x{image_size}/corr_pixel_wise_cluster/Clustering {kernel_name=}.pdf\", bbox_inches='tight')\n",
    "plt.show()\n",
    "order = np.argsort(idx)\n",
    "reordered_corr_matrix = big_corr_matrix[order][:, order]\n",
    "print(reordered_corr_matrix.shape)\n",
    "plt.imshow(reordered_corr_matrix, cmap=cmap, vmin=0, vmax=1)\n",
    "plt.colorbar()\n",
    "plt.savefig(f\"plots/{dataset_name} {image_size}x{image_size}/corr_pixel_wise_cluster/Clustered Correlation Matrix {kernel_name=} {num_clusters}.pdf\", bbox_inches='tight')\n",
    "plt.show();"
   ]
  },
  {
   "cell_type": "code",
   "execution_count": null,
   "id": "18273a77-b7e3-4b06-ba77-d0f71ad1f7b2",
   "metadata": {},
   "outputs": [],
   "source": [
    "create_evaluate_path(dataset_name, image_size)\n",
    "dataset = create_dataset(dataset_name, image_size, load_dataset_in_memory=True, type=\"test\")\n",
    "dataloader = torch.utils.data.DataLoader(dataset, batch_size=batch_size_gmmd, shuffle=False, num_workers=0)\n",
    "data = dataset.data[:len(dataset)//16]\n",
    "data = np.array(data[:(len(data)//batch_size_gmmd) * batch_size_gmmd].reshape(-1, batch_size_gmmd, nc, image_size, image_size))\n",
    "data.shape"
   ]
  },
  {
   "cell_type": "code",
   "execution_count": null,
   "id": "b81e40f6-0e1b-4509-8794-fd71a0ff5e77",
   "metadata": {},
   "outputs": [],
   "source": [
    "model_params = GetGANModelParameters()\n",
    "model_params = [\n",
    "    model_param for model_param in model_params\n",
    "    if model_param.get()[1]==64 and model_param.get()[2]==64 and model_param.get()[3]==0.0002\n",
    "]\n",
    "filename = f'data/samples DCGAN64x64 0 {model_params[0]}.pkl'\n",
    "with open(filename, 'rb') as file:\n",
    "    exp_results = pickle.load(file)\n",
    "tests = np.array([exp_results])\n",
    "tests.shape"
   ]
  },
  {
   "cell_type": "code",
   "execution_count": null,
   "id": "db72250c-31a9-49cc-8b39-479580c28ee3",
   "metadata": {},
   "outputs": [],
   "source": [
    "test_data_pixel_cluster = [np.array([data[:, :, :, x, y] for x in range(image_size) for y in range(image_size) if cluster[x, y] == c]).transpose(1, 2, 0, 3).reshape(*data.shape[:2], -1) for c in set(cluster.flatten())]"
   ]
  },
  {
   "cell_type": "code",
   "execution_count": null,
   "id": "ed146620-8a80-472b-a322-0db9d578de02",
   "metadata": {},
   "outputs": [],
   "source": [
    "cluster_max_epochs = 50"
   ]
  },
  {
   "cell_type": "code",
   "execution_count": null,
   "id": "d5e1df92-f014-481e-a4f1-416912df7883",
   "metadata": {},
   "outputs": [],
   "source": [
    "kernel = rbf_kernel_\n",
    "gmmd_dist = [[[] for _ in set(cluster.flatten())] for _ in tests]\n",
    "cos_dist = [[[] for _ in set(cluster.flatten())] for _ in tests]\n",
    "for j, model_tests in enumerate(tests):\n",
    "    for test_epoch in tqdm(model_tests[:cluster_max_epochs], total=cluster_max_epochs):\n",
    "        generated_data_pixel_cluster = [np.array([test_epoch[:, :, :, x, y] for x in range(image_size) for y in range(image_size) if cluster[x, y] == c]).transpose(1, 2, 0, 3).reshape(n, m, -1) for c in set(cluster.flatten())]\n",
    "        for i, (generated_cluster, test_cluster) in enumerate(zip(generated_data_pixel_cluster, test_data_pixel_cluster)):\n",
    "            gmmd_dist[j][i].append(metrics.gmmd(generated_cluster, test_cluster, kernel=kernel))\n",
    "            cos_dist[j][i].append(metrics.cos(generated_cluster, test_cluster, kernel=kernel))"
   ]
  },
  {
   "cell_type": "code",
   "execution_count": null,
   "id": "e4731d07-7e5a-48c0-8f9d-390a212a8804",
   "metadata": {},
   "outputs": [],
   "source": [
    "with open(f\"data/{dataset_name}/cms_mmd_{kernel_name}_{seed}_n_subset-{n_subset}.pkl\", \"wb\") as file:\n",
    "    pickle.dump((cos_dist, gmmd_dist), file)"
   ]
  },
  {
   "cell_type": "code",
   "execution_count": null,
   "id": "65510729-1c51-457d-8931-46b7c66ed012",
   "metadata": {},
   "outputs": [],
   "source": [
    "with open(f\"data/{dataset_name}/cms_mmd_{kernel_name}_{seed}_n_subset-{n_subset}.pkl\", \"rb\") as file:\n",
    "    (cos_dist, gmmd_dist) = pickle.load(file)\n",
    "\n",
    "gmmd_dist = np.array(gmmd_dist)\n",
    "cos_dist = np.array(cos_dist)\n",
    "cos_dist.shape"
   ]
  },
  {
   "cell_type": "code",
   "execution_count": null,
   "id": "8c715cee-ba4c-4561-8623-1a7829c9490c",
   "metadata": {},
   "outputs": [],
   "source": [
    "os.makedirs(f\"plots/{dataset_name} {image_size}x{image_size}/cluster_wise\", exist_ok=True)\n",
    "\n",
    "plt.rcParams.update({'font.size': 18})\n",
    "for model_cos_dist, model_param in zip(cos_dist, model_params):\n",
    "    batch_size, ngf, ndf, lr, beta1 = model_param.get()\n",
    "    print(f\"cos dist for all clusters {model_param}\")\n",
    "    for i, cos_dist_i in enumerate(model_cos_dist, 1):\n",
    "        plt.plot(cos_dist_i, label=f\"Cluster {i}\", color=colors[i], linewidth=5)\n",
    "    plt.xlim(1, cluster_max_epochs)\n",
    "    plt.ylim(np.min(model_cos_dist[:, 1:cluster_max_epochs + 1]), np.max(model_cos_dist[:, 1:cluster_max_epochs + 1]))\n",
    "    plt.legend(loc='upper left', bbox_to_anchor=(1, 1))\n",
    "    plt.xlabel(\"Epochs\")\n",
    "    plt.ylabel(\"CMS\")\n",
    "    #plt.xticks(range(2, cluster_max_epochs+1, 4))\n",
    "    # plt.title(\"gmmd dist for all clusters\")\n",
    "    plt.savefig(f\"plots/{dataset_name} {image_size}x{image_size}/cluster_wise/Cluster cos of {model_name} {max_images_per_epoch} {model_param} {kernel_name}.pdf\", bbox_inches='tight')\n",
    "    plt.show()"
   ]
  },
  {
   "cell_type": "code",
   "execution_count": null,
   "id": "32b98960-6c5c-4198-b580-15d826394295",
   "metadata": {},
   "outputs": [],
   "source": [
    "cpus = 1\n",
    "kernel = rbf_kernel_\n",
    "flatted_tests = tests.reshape(len(model_params), len(epochs), n, m, -1)\n",
    "image_wise_mmd = np.array([metrics.multiprocessed_gmmd(flatted_tests[i], data.reshape(data.shape[0], data.shape[1], -1), kernel=kernel, cpus=cpus) for i in range(len(model_params))])\n",
    "image_wise_cos = np.array([metrics.multiprocessed_cos(flatted_tests[i], data.reshape(data.shape[0], data.shape[1], -1), kernel=kernel, cpus=cpus) for i in range(len(model_params))])\n",
    "max_epochs = 50\n",
    "\n",
    "with open(f\"data/{dataset_name}/image_wise_cms_mmd_{kernel_name}_{seed}_n_subset-{n_subset}.pkl\", \"wb\") as file:\n",
    "    pickle.dump((image_wise_cos, image_wise_mmd), file)"
   ]
  },
  {
   "cell_type": "code",
   "execution_count": null,
   "id": "bc37181d-ad4a-4d80-951d-7cd7471f7be4",
   "metadata": {},
   "outputs": [],
   "source": [
    "with open(f\"data/{dataset_name}/image_wise_cms_mmd_{kernel_name}_{seed}_n_subset-{n_subset}.pkl\", \"rb\") as file:\n",
    "    (image_wise_cos, image_wise_mmd) = pickle.load(file)\n",
    "\n",
    "image_wise_cos_prod = cos_dist.prod(axis=1)\n",
    "image_wise_cos_prod.shape"
   ]
  },
  {
   "cell_type": "code",
   "execution_count": null,
   "id": "1f4477d2-3456-4848-8e44-de47d9fbaa11",
   "metadata": {},
   "outputs": [],
   "source": [
    "n_clusters_to_eval = [2, 5, 50]"
   ]
  },
  {
   "cell_type": "code",
   "execution_count": null,
   "id": "7b9d2f05-d6ce-4019-abb9-be81bd5cea3e",
   "metadata": {},
   "outputs": [],
   "source": [
    "def eval_clusters(num_clusters):\n",
    "    big_corr_matrix = data_corr.reshape(image_size*image_size, image_size*image_size)\n",
    "    pdist = spc.distance.pdist(big_corr_matrix)\n",
    "    linkage = spc.linkage(pdist, method='average')\n",
    "    if num_clusters is None:\n",
    "        idx = spc.fcluster(linkage, 0.5 * pdist.max(), criterion='distance')\n",
    "    else:\n",
    "        idx = spc.fcluster(linkage, criterion='maxclust', t=num_clusters)\n",
    "    cluster = np.array(idx).reshape(image_size, image_size)\n",
    "    test_data_pixel_cluster = [np.array([data[:, :, :, x, y] for x in range(image_size) for y in range(image_size) if cluster[x, y] == c]).transpose(1, 2, 0, 3).reshape(*data.shape[:2], -1) for c in set(cluster.flatten())]\n",
    "    cos_dist_cluster = [[[] for _ in set(cluster.flatten())] for _ in tests]\n",
    "    for j, model_tests in enumerate(tests):\n",
    "        for test_epoch in tqdm(model_tests[:cluster_max_epochs], total=cluster_max_epochs):\n",
    "            generated_data_pixel_cluster = [np.array([test_epoch[:, :, :, x, y] for x in range(image_size) for y in range(image_size) if cluster[x, y] == c]).transpose(1, 2, 0, 3).reshape(n, m, -1) for c in set(cluster.flatten())]\n",
    "            for i, (generated_cluster, test_cluster) in enumerate(zip(generated_data_pixel_cluster, test_data_pixel_cluster)):\n",
    "                cos_dist_cluster[j][i].append(metrics.cos(generated_cluster, test_cluster, kernel=kernel))\n",
    "    cos_dist_cluster = np.array(cos_dist_cluster)\n",
    "    return cos_dist_cluster.prod(axis=1)\n",
    "\n",
    "image_wise_cos_cluster_prod = []\n",
    "for num_clusters in tqdm(n_clusters_to_eval, total=len(n_clusters_to_eval)):\n",
    "    results = eval_clusters(num_clusters)\n",
    "    image_wise_cos_cluster_prod += [results]"
   ]
  },
  {
   "cell_type": "code",
   "execution_count": null,
   "id": "73c97f25-9db2-4698-8162-825dd1eaa9aa",
   "metadata": {},
   "outputs": [],
   "source": [
    "with open(f\"data/{dataset_name}/image_wise_cms_cluster_prod_{kernel_name}_{seed}_n_subset-{n_subset}.pkl\", \"wb\") as file:\n",
    "    pickle.dump(image_wise_cos_cluster_prod, file)"
   ]
  },
  {
   "cell_type": "code",
   "execution_count": null,
   "id": "d135baf6-6071-4cd5-a470-ee26258125c3",
   "metadata": {},
   "outputs": [],
   "source": [
    "with open(f\"data/{dataset_name}/image_wise_cms_cluster_prod_{kernel_name}_{seed}_n_subset-{n_subset}.pkl\", \"rb\") as file:\n",
    "    image_wise_cos_cluster_prod = pickle.load(file)\n",
    "\n",
    "image_wise_cos_cluster_prod[0].shape"
   ]
  },
  {
   "cell_type": "code",
   "execution_count": null,
   "id": "b367931d-a40b-4b8a-b7ef-2a735005b723",
   "metadata": {},
   "outputs": [],
   "source": [
    "os.makedirs(f\"plots/{dataset_name} {image_size}x{image_size}/image_wise\", exist_ok=True)\n",
    "\n",
    "max_epochs = 50\n",
    "linewidth=5\n",
    "\n",
    "for image_wise_mmd_i, image_wise_cos_i, model_param in zip(image_wise_mmd, image_wise_cos, model_params):\n",
    "    batch_size, ngf, ndf, lr, beta1 = model_param.get()\n",
    "    print(f\"dist image wise {model_param}\")\n",
    "    s = slice(0, max_epochs+1)\n",
    "    _s = slice(1, max_epochs+1)\n",
    "    plt.plot(image_wise_cos_i[s], label=\"CMS (Higher is better)\", linewidth=linewidth)\n",
    "    for j, image_wise_cos_prod_i in zip(n_clusters_to_eval, image_wise_cos_cluster_prod):\n",
    "        plt.plot(image_wise_cos_prod_i[0][s], label=f\"Product CMS for {j} clusters\", linewidth=linewidth)\n",
    "    plt.legend(loc='upper left', bbox_to_anchor=(0, 1.5))\n",
    "    plt.xlim((1, max_epochs))\n",
    "    plt.xlabel(\"Epochs\")\n",
    "    plt.ylabel(\"Value\")\n",
    "    plt.savefig(f\"plots/{dataset_name} {image_size}x{image_size}/image_wise/multi cluster CMS {model_name} {max_images_per_epoch} {model_param} {kernel_name}.pdf\", bbox_inches='tight')\n",
    "    plt.show()"
   ]
  },
  {
   "cell_type": "code",
   "execution_count": null,
   "id": "c9a5fad6-1f3a-414f-8b97-51692564cf1e",
   "metadata": {},
   "outputs": [],
   "source": [
    "os.makedirs(f\"plots/celeba 64x64/gen_samples\", exist_ok=True)\n",
    "look_ensambles = 20\n",
    "look_samples = 20\n",
    "for epoch in epochs[slice(1, 50, 4)]:\n",
    "    print((f\"{epoch=}\"))\n",
    "    images = (torch.tensor(tests[0, epoch, :look_ensambles, :look_samples].reshape((look_ensambles - 0)*look_samples, nc, image_size, image_size)) + 1)/2\n",
    "    plt.imshow(np.transpose(vutils.make_grid(images, nrow=look_samples), (1, 2, 0)))\n",
    "    plt.axis(\"off\")\n",
    "    plt.savefig(f\"plots/celeba 64x64/gen_samples/{dataset_name} epoch{epoch} {model_params[0]}.pdf\", bbox_inches='tight')\n",
    "    plt.show()"
   ]
  },
  {
   "cell_type": "code",
   "execution_count": null,
   "id": "5f1b4f5e-ce8a-4f3d-b1d6-67ece56cc6eb",
   "metadata": {},
   "outputs": [],
   "source": [
    "with open('data/singles.pkl', 'rb') as f:\n",
    "     isc_mean_single, isc_std_single, fid_single, kid_mean_single, kid_std_single = pickle.load(f)"
   ]
  },
  {
   "cell_type": "code",
   "execution_count": null,
   "id": "99ad8281-9d58-466a-9896-6e7dce875a83",
   "metadata": {},
   "outputs": [],
   "source": [
    "os.makedirs(f\"plots/{dataset_name} {image_size}x{image_size}/image_wise\", exist_ok=True)\n",
    "\n",
    "plt.rcParams.update({'font.size': 18})\n",
    "linewidth = 5\n",
    "\n",
    "host = host_subplot(111, axes_class=AA.Axes)\n",
    "plt.subplots_adjust(right=0.75)\n",
    "\n",
    "par1 = host.twinx()\n",
    "par2 = host.twinx()\n",
    "\n",
    "offset = 75\n",
    "new_fixed_axis = par2.get_grid_helper().new_fixed_axis\n",
    "par2.axis[\"right\"] = new_fixed_axis(loc=\"right\", axes=par2,\n",
    "                                        offset=(offset, 0))\n",
    "par1.axis[\"right\"].toggle(all=True)\n",
    "par2.axis[\"right\"].toggle(all=True)\n",
    "\n",
    "host.set_xlabel(\"Epochs\")\n",
    "host.set_ylabel(\"ISC\")\n",
    "par1.set_ylabel(\"KID / MMD\")\n",
    "par2.set_ylabel(\"FID\")\n",
    "\n",
    "x_axis = np.arange(1, 51)\n",
    "p1, = host.plot(x_axis, isc_mean_single.mean(0)[1:], label=\"ISC (Higher is better)\", linewidth=linewidth)\n",
    "p2, = par1.plot(x_axis, kid_mean_single.mean(0)[1:], label=\"KID (Lower is better)\", linewidth=linewidth)\n",
    "p3, = par2.plot(x_axis, fid_single.mean(0)[1:], label=\"FID (Lower is better)\", linewidth=linewidth)\n",
    "p4, = par1.plot(x_axis, image_wise_mmd[0][1:], label=\"MMD (Lower is better)\", linewidth=linewidth)\n",
    "\n",
    "host.legend(loc='upper left', bbox_to_anchor=(0., 1.5))\n",
    "\n",
    "plt.draw()\n",
    "plt.savefig(f\"plots/{dataset_name} {image_size}x{image_size}/image_wise/alternative errors.pdf\", bbox_inches='tight')\n",
    "plt.show();"
   ]
  },
  {
   "cell_type": "code",
   "execution_count": null,
   "id": "512de6f5-34e0-4be7-a5a0-1ef9210f328a",
   "metadata": {},
   "outputs": [],
   "source": [
    "##############################\n",
    "##### ChestMNIST #############\n",
    "##############################"
   ]
  },
  {
   "cell_type": "code",
   "execution_count": null,
   "id": "926346af-c1a9-4dfd-867e-d006f577fdc7",
   "metadata": {},
   "outputs": [],
   "source": [
    "##############################\n",
    "##### DCGAN ##################\n",
    "##############################"
   ]
  },
  {
   "cell_type": "code",
   "execution_count": null,
   "id": "7352e239-0212-467b-9073-e043ecbae368",
   "metadata": {},
   "outputs": [],
   "source": [
    "seed = set_random_seed(6746)\n",
    "n = 20\n",
    "m = n\n",
    "ngpu = 1\n",
    "n_subset = 2000\n",
    "batch_size_corr = 100\n",
    "batch_size_gmmd = 150  # 100\n",
    "workers_gmmd = 22\n",
    "nz = 100\n",
    "nc = 1\n",
    "image_size = 28\n",
    "model_name = \"DCGAN28x28\"\n",
    "dataset_name = \"ChestMNIST\"\n",
    "max_epochs = 50\n",
    "epochs = list(range(0, max_epochs + 1))  # [1, 25, 50]\n",
    "corr_epoch = 40\n",
    "cpus = 1 # mp.cpu_count()\n",
    "max_images_per_epoch = 0  # set to 0 for max\n",
    "num_clusters = 5  # None\n",
    "device = torch.device(\"cuda:0\" if (torch.cuda.is_available() and ngpu > 0) else \"cpu\")"
   ]
  },
  {
   "cell_type": "code",
   "execution_count": null,
   "id": "f037b234-802a-48b2-8f09-571868db9288",
   "metadata": {},
   "outputs": [],
   "source": [
    "plt.rcParams.update({'font.size': 14})\n",
    "\n",
    "training_dataset = create_dataset(dataset_name, image_size, subset=n_subset, load_dataset_in_memory=True)\n",
    "training_data = training_dataset.data.numpy()\n",
    "print(training_data.shape)\n",
    "\n",
    "gamma = 1/np.median(pairwise.euclidean_distances(training_data.reshape(training_data.shape[0], -1), squared=True))\n",
    "\n",
    "def rbf_kernel_(x,y):\n",
    "    return pairwise.rbf_kernel(x,y,gamma=gamma)\n",
    "\n",
    "kernel = rbf_kernel_\n",
    "kernel_name = \"rbf_kernel\"\n"
   ]
  },
  {
   "cell_type": "code",
   "execution_count": null,
   "id": "6c7bf0bc-3fd0-4898-8d0b-65e11bf5b1d6",
   "metadata": {},
   "outputs": [],
   "source": [
    "os.makedirs(f\"data/{dataset_name}/corrs\", exist_ok=True)\n",
    "\n",
    "cpus = 50\n",
    "agg = []\n",
    "for i in range(n_subset // batch_size_corr):\n",
    "    batch = training_data[i*batch_size_corr:(i+1)*batch_size_corr]\n",
    "    data_corr_tri = multiprocessed_pixel_wise_CKA(image_size, batch, cpus=cpus, kernel=kernel)\n",
    "    data_corr_tri = data_corr_tri.reshape(image_size**2, image_size**2)\n",
    "    ### make triangular matrix symmetric\n",
    "    data_corr = data_corr_tri.copy()\n",
    "    data_corr[np.tril_indices_from(data_corr_tri, k=-1)] = data_corr_tri.T[np.tril_indices_from(data_corr_tri, k=-1)]\n",
    "    data_corr = data_corr.reshape(image_size, image_size, image_size, image_size)\n",
    "\n",
    "    with open(f\"data/{dataset_name}/corrs/CKA {kernel_name} {seed} n_subset-{n_subset} batch-{i}.pkl\", \"wb\") as file:\n",
    "        pickle.dump(data_corr, file)\n"
   ]
  },
  {
   "cell_type": "code",
   "execution_count": null,
   "id": "608955c7-347a-4b23-9e9f-b8ee25e50678",
   "metadata": {},
   "outputs": [],
   "source": [
    "n_batches = n_subset // batch_size_corr\n",
    "data_corr = []\n",
    "for i in tqdm(range(n_batches), total=n_batches):\n",
    "    with open(f\"data/{dataset_name}/corrs/CKA {kernel_name} {seed} n_subset-{n_subset} batch-{i}.pkl\", \"rb\") as file:\n",
    "        data_corr.append(pickle.load(file))\n",
    "data_corr = np.array(data_corr).mean(axis=0)"
   ]
  },
  {
   "cell_type": "code",
   "execution_count": null,
   "id": "ae7a076e-ac5a-445d-8877-9db463dd22d4",
   "metadata": {},
   "outputs": [],
   "source": [
    "os.makedirs(f\"plots/{dataset_name} {image_size}x{image_size}/corr_pixel_wise_cluster\", exist_ok=True)\n",
    "\n",
    "cmap = cmap=plt.cm.Reds\n",
    "num_clusters = 6\n",
    "colors = {\n",
    "    1: '#003f5c',\n",
    "    2: '#fb8500',\n",
    "    3: '#e40b0b',\n",
    "    4: '#219ebc',\n",
    "    5: '#8ab17d',\n",
    "    6: '#d08c60',\n",
    "}\n",
    "big_corr_matrix = data_corr.reshape(image_size*image_size, image_size*image_size)\n",
    "pdist = spc.distance.pdist(big_corr_matrix)\n",
    "linkage = spc.linkage(pdist, method='average')\n",
    "if num_clusters is None:\n",
    "    idx = spc.fcluster(linkage, 0.5 * pdist.max(), criterion='distance')\n",
    "else:\n",
    "    idx = spc.fcluster(linkage, criterion='maxclust', t=num_clusters)\n",
    "cluster = np.array(idx).reshape(image_size, image_size)\n",
    "plt.imshow(cluster, cmap=plt.cm.colors.ListedColormap(colors.values()))\n",
    "handles = [plt.Line2D([0, 1], [0, 1], color=colors[label], linewidth=3) for label in range(1, num_clusters + 1)]\n",
    "labels = [f\"Cluster {label}\" for label in range(1, num_clusters + 1)]\n",
    "plt.legend(handles, labels, loc='upper left', bbox_to_anchor=(1, 1))\n",
    "\n",
    "plt.savefig(f\"plots/{dataset_name} {image_size}x{image_size}/corr_pixel_wise_cluster/same {model_name} models Clustering {batch_size=} {ngf=} {ndf=} {lr=} {beta1=} {kernel_name=}.pdf\", bbox_inches='tight')\n",
    "plt.show()\n",
    "order = np.argsort(idx)\n",
    "reordered_corr_matrix = big_corr_matrix[order][:, order]\n",
    "print(reordered_corr_matrix.shape)\n",
    "plt.imshow(reordered_corr_matrix, cmap=cmap, vmin=0, vmax=1)\n",
    "plt.colorbar()\n",
    "plt.savefig(f\"plots/{dataset_name} {image_size}x{image_size}/corr_pixel_wise_cluster/same {model_name} models Clustered Correlation Matrix {batch_size=} {ngf=} {ndf=} {lr=} {beta1=} {kernel_name=}.pdf\", bbox_inches='tight')\n",
    "plt.show()"
   ]
  },
  {
   "cell_type": "code",
   "execution_count": null,
   "id": "b0968a47-a8bd-4dbe-b755-c4255e789153",
   "metadata": {},
   "outputs": [],
   "source": [
    "dataset = create_dataset(dataset_name, image_size, load_dataset_in_memory=True, type=\"test\")\n",
    "data = dataset.data[:len(dataset)//16]\n",
    "data = np.array(data[:(len(data)//batch_size_gmmd) * batch_size_gmmd].reshape(-1, batch_size_gmmd, nc, image_size, image_size))\n",
    "print(data.shape)\n",
    "\n",
    "test_data_pixel_cluster = [np.array([data[:, :, :, x, y] for x in range(image_size) for y in range(image_size) if cluster[x, y] == c]).transpose(1, 2, 0, 3).reshape(*data.shape[:2], -1) for c in set(cluster.flatten())]"
   ]
  },
  {
   "cell_type": "code",
   "execution_count": null,
   "id": "9f377225-223e-45a2-9a59-27dc2d207a90",
   "metadata": {},
   "outputs": [],
   "source": [
    "model_params = GetGANModelParameters()\n",
    "model_params = [\n",
    "    model_param for model_param in model_params\n",
    "    if model_param.get()[1]==64 and model_param.get()[2]==64 and model_param.get()[3]==0.0008\n",
    "]\n",
    "filename = f'data/samples DCGAN28x28 0 {model_params[0]}.pkl'\n",
    "with open(filename, 'rb') as file:\n",
    "    exp_results = pickle.load(file)\n",
    "tests = np.array([exp_results])\n",
    "tests.shape"
   ]
  },
  {
   "cell_type": "code",
   "execution_count": null,
   "id": "998776bd-7310-49c9-b98d-b165fb930bb9",
   "metadata": {},
   "outputs": [],
   "source": [
    "os.makedirs(f\"plots/celeba 28x28/gen_samples\", exist_ok=True)\n",
    "\n",
    "look_ensambles = 20\n",
    "look_samples = 20\n",
    "for epoch in epochs[slice(1, 6, 1)]:\n",
    "    print((f\"{epoch=}\"))\n",
    "    images = (torch.tensor(tests[0, epoch, :look_ensambles, :look_samples].reshape((look_ensambles - 0)*look_samples, nc, image_size, image_size)) + 1)/2\n",
    "    plt.imshow(np.transpose(vutils.make_grid(images, nrow=look_samples), (1, 2, 0)))\n",
    "    plt.axis(\"off\")\n",
    "    plt.savefig(f\"plots/celeba 28x28/gen_samples/{dataset_name} epoch{epoch} {model_params[0]}.pdf\", bbox_inches='tight')\n",
    "    plt.show()"
   ]
  },
  {
   "cell_type": "code",
   "execution_count": null,
   "id": "26daf540-bcf1-490d-ae3d-9f825e970057",
   "metadata": {},
   "outputs": [],
   "source": [
    "cluster_max_epochs = 20\n",
    "kernel = rbf_kernel_\n",
    "gmmd_dist = [[[] for _ in set(cluster.flatten())] for _ in tests]\n",
    "cos_dist = [[[] for _ in set(cluster.flatten())] for _ in tests]\n",
    "for j, model_tests in enumerate(tests):\n",
    "    for test_epoch in tqdm(model_tests[:cluster_max_epochs], total=cluster_max_epochs):\n",
    "        generated_data_pixel_cluster = [np.array([test_epoch[:, :, :, x, y] for x in range(image_size) for y in range(image_size) if cluster[x, y] == c]).transpose(1, 2, 0, 3).reshape(n, m, -1) for c in set(cluster.flatten())]\n",
    "        for i, (generated_cluster, test_cluster) in enumerate(zip(generated_data_pixel_cluster, test_data_pixel_cluster)):\n",
    "            gmmd_dist[j][i].append(metrics.gmmd(generated_cluster, test_cluster, kernel=kernel))\n",
    "            cos_dist[j][i].append(metrics.cos(generated_cluster, test_cluster, kernel=kernel))"
   ]
  },
  {
   "cell_type": "code",
   "execution_count": null,
   "id": "c7febaba-91be-4f65-9141-b76225f2ef60",
   "metadata": {},
   "outputs": [],
   "source": [
    "os.makedirs(f\"plots/{dataset_name} {image_size}x{image_size}/cluster_wise\", exist_ok=True)\n",
    "\n",
    "plt.rcParams.update({'font.size': 18})\n",
    "for model_cos_dist, model_param in zip(cos_dist, model_params):\n",
    "    batch_size, ngf, ndf, lr, beta1 = model_param.get()\n",
    "    print(f\"cos dist for all clusters {model_param}\")\n",
    "    for i, cos_dist_i in enumerate(model_cos_dist, 1):\n",
    "        plt.plot(np.arange(1, len(cos_dist_i)+1), cos_dist_i, label=f\"Cluster {i}\", color=colors[i], linewidth=5)\n",
    "    plt.xlim(1, 6)\n",
    "    plt.legend(loc='upper left', bbox_to_anchor=(1, 1))\n",
    "    plt.xlabel(\"Epochs\")\n",
    "    plt.ylabel(\"CMS\")\n",
    "    plt.savefig(f\"plots/{dataset_name} {image_size}x{image_size}/cluster_wise/Cluster cos of {model_name} {max_images_per_epoch} {model_param} {kernel_name}.pdf\", bbox_inches='tight')\n",
    "    plt.show()"
   ]
  },
  {
   "cell_type": "code",
   "execution_count": null,
   "id": "5e8bc181-8c75-416b-828f-fb0f951d5087",
   "metadata": {},
   "outputs": [],
   "source": [
    "cpus = 1\n",
    "epochs = np.arange(0, 51)\n",
    "flatted_tests = tests.reshape(len(model_params), len(epochs), n, m, -1)\n",
    "image_wise_mmd = np.array([metrics.multiprocessed_gmmd(flatted_tests[i], data.reshape(data.shape[0], data.shape[1], -1), kernel=kernel, cpus=cpus) for i in range(len(model_params))])\n",
    "image_wise_cos = np.array([metrics.multiprocessed_cos(flatted_tests[i], data.reshape(data.shape[0], data.shape[1], -1), kernel=kernel, cpus=cpus) for i in range(len(model_params))])\n",
    "image_wise_cos.shape"
   ]
  },
  {
   "cell_type": "code",
   "execution_count": null,
   "id": "7767c1f1-0e90-4ccc-81e9-756cfb365ee4",
   "metadata": {},
   "outputs": [],
   "source": [
    "image_wise_cos_cluster_prod = [np.array(cos_dist).prod(axis=1)]\n",
    "image_wise_cos_cluster_prod[0].shape"
   ]
  },
  {
   "cell_type": "code",
   "execution_count": null,
   "id": "aa853987-2fcf-4287-8155-7694e5f86aec",
   "metadata": {},
   "outputs": [],
   "source": [
    "os.makedirs(f\"plots/{dataset_name} {image_size}x{image_size}/image_wise\", exist_ok=True)\n",
    "\n",
    "max_epochs = 6\n",
    "linewidth=5\n",
    "n_clusters_to_eval = [5]\n",
    "\n",
    "for image_wise_mmd_i, image_wise_cos_i, model_param in zip(image_wise_mmd, image_wise_cos, model_params):\n",
    "    batch_size, ngf, ndf, lr, beta1 = model_param.get()\n",
    "    print(f\"dist image wise {model_param}\")\n",
    "    s = slice(0, max_epochs)\n",
    "    _s = slice(1, max_epochs+1)\n",
    "    plt.plot(np.arange(1, max_epochs+1), image_wise_cos_i[s], label=\"CMS (Higher is better)\", linewidth=linewidth)\n",
    "    for j, image_wise_cos_prod_i in zip(n_clusters_to_eval, image_wise_cos_cluster_prod):\n",
    "        plt.plot(np.arange(1, max_epochs+1), image_wise_cos_prod_i[0][s], label=f\"Product CMS for {j} clusters\", linewidth=linewidth)\n",
    "    plt.legend(loc='upper left', bbox_to_anchor=(0, 1.3))\n",
    "    plt.xlim((1, max_epochs))\n",
    "    plt.xlabel(\"Epochs\")\n",
    "    plt.ylabel(\"Value\")\n",
    "    plt.savefig(f\"plots/{dataset_name} {image_size}x{image_size}/image_wise/multi cluster CMS {model_name} {max_images_per_epoch} {model_param} {kernel_name}.pdf\", bbox_inches='tight')\n",
    "    plt.show()"
   ]
  },
  {
   "cell_type": "code",
   "execution_count": null,
   "id": "142191f9-7fd5-4e33-b6b8-11cf0956be66",
   "metadata": {},
   "outputs": [],
   "source": [
    "model_params = GetGANModelParameters()\n",
    "model_params = [\n",
    "    model_param for model_param in model_params\n",
    "    if model_param.get()[1]==64 and model_param.get()[2]==64 and model_param.get()[3]==1e-05\n",
    "]\n",
    "filename = f'data/samples DCGAN28x28 0 {model_params[0]}.pkl'\n",
    "with open(filename, 'rb') as file:\n",
    "    exp_results = pickle.load(file)\n",
    "tests = np.array([exp_results])\n",
    "tests.shape"
   ]
  },
  {
   "cell_type": "code",
   "execution_count": null,
   "id": "26e48af4-3b4d-4606-a0c9-89d677b3a2e5",
   "metadata": {},
   "outputs": [],
   "source": [
    "os.makedirs(f\"plots/celeba 28x28/gen_samples\", exist_ok=True)\n",
    "\n",
    "look_ensambles = 20\n",
    "look_samples = 20\n",
    "for epoch in epochs[slice(1, 6, 1)]:\n",
    "    print((f\"{epoch=}\"))\n",
    "    images = (torch.tensor(tests[0, epoch, :look_ensambles, :look_samples].reshape((look_ensambles - 0)*look_samples, nc, image_size, image_size)) + 1)/2\n",
    "    plt.imshow(np.transpose(vutils.make_grid(images, nrow=look_samples), (1, 2, 0)))\n",
    "    plt.axis(\"off\")\n",
    "    plt.savefig(f\"plots/celeba 28x28/gen_samples/{dataset_name} epoch{epoch} {model_params[0]}.pdf\", bbox_inches='tight')\n",
    "    plt.show()"
   ]
  },
  {
   "cell_type": "code",
   "execution_count": null,
   "id": "e6ca5f16-b36e-42d5-9b9b-7acf31279976",
   "metadata": {},
   "outputs": [],
   "source": [
    "cluster_max_epochs = 20\n",
    "kernel = rbf_kernel_\n",
    "gmmd_dist = [[[] for _ in set(cluster.flatten())] for _ in tests]\n",
    "cos_dist = [[[] for _ in set(cluster.flatten())] for _ in tests]\n",
    "for j, model_tests in enumerate(tests):\n",
    "    for test_epoch in tqdm(model_tests[:cluster_max_epochs], total=cluster_max_epochs):\n",
    "        generated_data_pixel_cluster = [np.array([test_epoch[:, :, :, x, y] for x in range(image_size) for y in range(image_size) if cluster[x, y] == c]).transpose(1, 2, 0, 3).reshape(n, m, -1) for c in set(cluster.flatten())]\n",
    "        for i, (generated_cluster, test_cluster) in enumerate(zip(generated_data_pixel_cluster, test_data_pixel_cluster)):\n",
    "            gmmd_dist[j][i].append(metrics.gmmd(generated_cluster, test_cluster, kernel=kernel))\n",
    "            cos_dist[j][i].append(metrics.cos(generated_cluster, test_cluster, kernel=kernel))"
   ]
  },
  {
   "cell_type": "code",
   "execution_count": null,
   "id": "21324535-4820-45c8-aae5-d90cf9ae3dae",
   "metadata": {},
   "outputs": [],
   "source": [
    "plt.rcParams.update({'font.size': 18})\n",
    "for model_cos_dist, model_param in zip(cos_dist, model_params):\n",
    "    batch_size, ngf, ndf, lr, beta1 = model_param.get()\n",
    "    print(f\"cos dist for all clusters {model_param}\")\n",
    "    for i, cos_dist_i in enumerate(model_cos_dist, 1):\n",
    "        plt.plot(np.arange(1, len(cos_dist_i)+1), cos_dist_i, label=f\"Cluster {i}\", color=colors[i], linewidth=5)\n",
    "    plt.xlim(1, 20)\n",
    "    plt.legend(loc='upper left', bbox_to_anchor=(1, 1))\n",
    "    plt.xlabel(\"Epochs\")\n",
    "    plt.ylabel(\"CMS\")\n",
    "    plt.savefig(f\"plots/{dataset_name} {image_size}x{image_size}/cluster_wise/Cluster cos of {model_name} {max_images_per_epoch} {model_param} {kernel_name}.pdf\", bbox_inches='tight')\n",
    "    plt.show()"
   ]
  },
  {
   "cell_type": "code",
   "execution_count": null,
   "id": "e156d63c-b2e2-464d-bf77-f8ab3cc74c7e",
   "metadata": {},
   "outputs": [],
   "source": [
    "cpus = 1\n",
    "flatted_tests = tests.reshape(len(model_params), len(epochs), n, m, -1)\n",
    "image_wise_mmd = np.array([metrics.multiprocessed_gmmd(flatted_tests[i], data.reshape(data.shape[0], data.shape[1], -1), kernel=kernel, cpus=cpus) for i in range(len(model_params))])\n",
    "image_wise_cos = np.array([metrics.multiprocessed_cos(flatted_tests[i], data.reshape(data.shape[0], data.shape[1], -1), kernel=kernel, cpus=cpus) for i in range(len(model_params))])\n",
    "image_wise_cos.shape"
   ]
  },
  {
   "cell_type": "code",
   "execution_count": null,
   "id": "43f74edc-4066-4d7a-bd65-b7da7cf9bf90",
   "metadata": {},
   "outputs": [],
   "source": [
    "image_wise_cos_cluster_prod = [np.array(cos_dist).prod(axis=1)]\n",
    "image_wise_cos_cluster_prod[0].shape"
   ]
  },
  {
   "cell_type": "code",
   "execution_count": null,
   "id": "4489137d-1bfa-4938-96c4-c752d1db9b7c",
   "metadata": {},
   "outputs": [],
   "source": [
    "max_epochs = 19\n",
    "linewidth=5\n",
    "n_clusters_to_eval = [5]\n",
    "\n",
    "for image_wise_mmd_i, image_wise_cos_i, model_param in zip(image_wise_mmd, image_wise_cos, model_params):\n",
    "    batch_size, ngf, ndf, lr, beta1 = model_param.get()\n",
    "    print(f\"dist image wise {model_param}\")\n",
    "    s = slice(0, max_epochs+1)\n",
    "    _s = slice(1, max_epochs+1)\n",
    "    plt.plot(np.arange(1, len(cos_dist_i)+1), image_wise_cos_i[s], label=\"CMS (Higher is better)\", linewidth=linewidth)\n",
    "    for j, image_wise_cos_prod_i in zip(n_clusters_to_eval, image_wise_cos_cluster_prod):\n",
    "        plt.plot(np.arange(1, len(cos_dist_i)+1), image_wise_cos_prod_i[0][s], label=f\"Product CMS for {j} clusters\", linewidth=linewidth)\n",
    "    #plt.plot(image_wise_cos_cluster_prod_50[0][0][s], label=f\"Product CMS for 50 clusters\")\n",
    "    plt.legend(loc='upper left', bbox_to_anchor=(0, 1.3))\n",
    "    plt.xlim((1, max_epochs+1))\n",
    "    plt.xlabel(\"Epochs\")\n",
    "    plt.ylabel(\"Value\")\n",
    "    plt.savefig(f\"plots/{dataset_name} {image_size}x{image_size}/image_wise/multi cluster CMS {model_name} {max_images_per_epoch} {model_param} {kernel_name}.pdf\", bbox_inches='tight')\n",
    "    plt.show()"
   ]
  },
  {
   "cell_type": "code",
   "execution_count": null,
   "id": "5d8d1384-4dda-4fb5-a04b-4cef6e5b28d1",
   "metadata": {},
   "outputs": [],
   "source": [
    "####################################\n",
    "######### DDPM #####################\n",
    "####################################"
   ]
  },
  {
   "cell_type": "code",
   "execution_count": null,
   "id": "4c17587d-1be1-4863-8131-3a2abff8e140",
   "metadata": {},
   "outputs": [],
   "source": [
    "model_params = GetDiffusionModelParameters()\n",
    "for i, model_param in enumerate(model_params):\n",
    "    print(i, model_param)\n",
    "    \n",
    "model_params = [list(model_params)[0]]\n",
    "filename = f'data/samples Diffusion28x28 0 {model_params[0]}.pkl'\n",
    "with open(filename, 'rb') as file:\n",
    "    exp_results = pickle.load(file)\n",
    "tests = np.array([exp_results])\n",
    "tests.shape"
   ]
  },
  {
   "cell_type": "code",
   "execution_count": null,
   "id": "b0ed8b82-f6da-4402-80d9-6adfdd87441b",
   "metadata": {},
   "outputs": [],
   "source": [
    "look_ensambles = 20\n",
    "look_samples = 20\n",
    "for epoch in epochs[slice(0, 30, 5)]:\n",
    "    print((f\"{epoch=}\"))\n",
    "    images = (torch.tensor(tests[0, epoch, :look_ensambles, :look_samples].reshape((look_ensambles - 0)*look_samples, nc, image_size, image_size)) + 1)/2\n",
    "    plt.imshow(np.transpose(vutils.make_grid(images, nrow=look_samples), (1, 2, 0)))\n",
    "    plt.axis(\"off\")\n",
    "    plt.savefig(f\"plots/celeba 28x28/gen_samples/{dataset_name} epoch{epoch} {model_params[0]}.pdf\", bbox_inches='tight')\n",
    "    plt.show()"
   ]
  },
  {
   "cell_type": "code",
   "execution_count": null,
   "id": "df642e0d-730a-46f4-9474-1dc051b8749e",
   "metadata": {},
   "outputs": [],
   "source": [
    "#model_id = 0\n",
    "cluster_max_epochs = 30\n",
    "kernel = rbf_kernel_\n",
    "gmmd_dist = [[[] for _ in set(cluster.flatten())] for _ in tests]\n",
    "cos_dist = [[[] for _ in set(cluster.flatten())] for _ in tests]\n",
    "for j, model_tests in enumerate(tests):\n",
    "    for test_epoch in tqdm(model_tests[:cluster_max_epochs], total=cluster_max_epochs):\n",
    "        generated_data_pixel_cluster = [np.array([test_epoch[:, :, :, x, y] for x in range(image_size) for y in range(image_size) if cluster[x, y] == c]).transpose(1, 2, 0, 3).reshape(n, m, -1) for c in set(cluster.flatten())]\n",
    "        for i, (generated_cluster, test_cluster) in enumerate(zip(generated_data_pixel_cluster, test_data_pixel_cluster)):\n",
    "            gmmd_dist[j][i].append(metrics.gmmd(generated_cluster, test_cluster, kernel=kernel))\n",
    "            cos_dist[j][i].append(metrics.cos(generated_cluster, test_cluster, kernel=kernel))"
   ]
  },
  {
   "cell_type": "code",
   "execution_count": null,
   "id": "36f6b33f-f44d-481c-894f-3b0af19806a0",
   "metadata": {},
   "outputs": [],
   "source": [
    "plt.rcParams.update({'font.size': 18})\n",
    "for model_cos_dist, model_param in zip(cos_dist, model_params):\n",
    "    batch_size, ngf, ndf, lr, beta1 = model_param.get()\n",
    "    print(f\"cos dist for all clusters {model_param}\")\n",
    "    for i, cos_dist_i in enumerate(model_cos_dist, 1):\n",
    "        plt.plot(np.arange(1, len(cos_dist_i)+1), cos_dist_i, label=f\"Cluster {i}\", color=colors[i], linewidth=5)\n",
    "    plt.xlim(1, 10)\n",
    "    plt.legend(loc='upper left', bbox_to_anchor=(1, 1))\n",
    "    plt.xlabel(\"Epochs\")\n",
    "    plt.ylabel(\"CMS\")\n",
    "    plt.savefig(f\"plots/{dataset_name} {image_size}x{image_size}/cluster_wise/Cluster cos of {model_name} {max_images_per_epoch} {model_param} {kernel_name}.pdf\", bbox_inches='tight')\n",
    "    plt.show()"
   ]
  },
  {
   "cell_type": "code",
   "execution_count": null,
   "id": "2958ddbc-032b-4cb7-8738-0ea312508afd",
   "metadata": {},
   "outputs": [],
   "source": [
    "cpus = 1\n",
    "epochs = np.arange(0, 31)\n",
    "flatted_tests = tests.reshape(len(model_params), len(epochs), n, m, -1)\n",
    "image_wise_mmd = np.array([metrics.multiprocessed_gmmd(flatted_tests[i], data.reshape(data.shape[0], data.shape[1], -1), kernel=kernel, cpus=cpus) for i in range(len(model_params))])\n",
    "image_wise_cos = np.array([metrics.multiprocessed_cos(flatted_tests[i], data.reshape(data.shape[0], data.shape[1], -1), kernel=kernel, cpus=cpus) for i in range(len(model_params))])\n",
    "image_wise_cos.shape"
   ]
  },
  {
   "cell_type": "code",
   "execution_count": null,
   "id": "b1e6de6d-f75c-404f-a93c-3974c10b66ea",
   "metadata": {},
   "outputs": [],
   "source": [
    "image_wise_cos_cluster_prod = [np.array(cos_dist).prod(axis=1)]\n",
    "image_wise_cos_cluster_prod[0].shape"
   ]
  },
  {
   "cell_type": "code",
   "execution_count": null,
   "id": "3dbeb8be-f9f2-4b82-8500-e3a1fe026573",
   "metadata": {},
   "outputs": [],
   "source": [
    "max_epochs = 10\n",
    "linewidth=5\n",
    "n_clusters_to_eval = [5]\n",
    "\n",
    "for image_wise_mmd_i, image_wise_cos_i, model_param in zip(image_wise_mmd, image_wise_cos, model_params):\n",
    "    batch_size, ngf, ndf, lr, beta1 = model_param.get()\n",
    "    print(f\"dist image wise {model_param}\")\n",
    "    s = slice(0, max_epochs)\n",
    "    _s = slice(1, max_epochs+1)\n",
    "    plt.plot(np.arange(1, max_epochs+1), image_wise_cos_i[s], label=\"CMS (Higher is better)\", linewidth=linewidth)\n",
    "    for j, image_wise_cos_prod_i in zip(n_clusters_to_eval, image_wise_cos_cluster_prod):\n",
    "        plt.plot(np.arange(1, max_epochs+1), image_wise_cos_prod_i[0][s], label=f\"Product CMS for {j} clusters\", linewidth=linewidth)\n",
    "    plt.legend(loc='upper left', bbox_to_anchor=(0, 1.3))\n",
    "    plt.xlim((1, max_epochs+1))\n",
    "    plt.xlabel(\"Epochs\")\n",
    "    plt.ylabel(\"Value\")\n",
    "    plt.savefig(f\"plots/{dataset_name} {image_size}x{image_size}/image_wise/multi cluster CMS {model_name} {max_images_per_epoch} {model_param} {kernel_name}.pdf\", bbox_inches='tight')\n",
    "    plt.show()"
   ]
  },
  {
   "cell_type": "code",
   "execution_count": null,
   "id": "642c6295-5232-451a-b993-b85af3e35b94",
   "metadata": {},
   "outputs": [],
   "source": []
  }
 ],
 "metadata": {
  "kernelspec": {
   "display_name": "Python 3 (ipykernel)",
   "language": "python",
   "name": "python3"
  },
  "language_info": {
   "codemirror_mode": {
    "name": "ipython",
    "version": 3
   },
   "file_extension": ".py",
   "mimetype": "text/x-python",
   "name": "python",
   "nbconvert_exporter": "python",
   "pygments_lexer": "ipython3",
   "version": "3.12.2"
  }
 },
 "nbformat": 4,
 "nbformat_minor": 5
}
